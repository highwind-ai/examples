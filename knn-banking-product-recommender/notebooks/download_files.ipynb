{
 "cells": [
  {
   "cell_type": "markdown",
   "metadata": {},
   "source": [
    "# Overview\n",
    "\n",
    "This notebook outlines the steps to download files from the [Hugging Face model repository](https://huggingface.co/datasets/MelioAI/santander-product-recommendation) and save them to the `saved_model` directory located in the root of this example."
   ]
  },
  {
   "cell_type": "markdown",
   "metadata": {},
   "source": [
    "## Access HuggingFace for Dataset access\n",
    "\n",
    "### Sign in to your Hugging Face account\n",
    "\n",
    "This will enable you to access the dataset and upload/share the model.\n",
    "\n",
    "### Steps to get the `Access Token` from Hugging Face:\n",
    "\n",
    " - **Sign In or Sign Up:** If you don't have a Hugging Face account yet, you'll need to sign up. If you already have an account, sign in.\n",
    "\n",
    " - **Access Your Profile:** Once you're signed in, navigate to your profile settings. You can do this by clicking on your profile icon or username, usually located in the top-right corner of the Hugging Face website.\n",
    " \n",
    "- **Navigate to Access Token Settings:** Within your profile settings, look for an option related to Access tokens. This is where you can manage and generate tokens.\n",
    "\n",
    "- **Generate a New Token:** If you haven't generated a token before, you'll see a button (`New token`) to generate a new token. Click on this button. Please ensure you give the token `write` access\n",
    "\n",
    "- **Name Your Token (Optional):** You may be prompted to give your token a name or description. This step is optional but can be helpful if you plan to generate multiple tokens for different purposes.\n",
    "\n",
    "- **Copy Your Token:** Once your token is generated, you'll typically see it displayed on the screen. Make sure to copy the token and replace it in the `login` code below. "
   ]
  },
  {
   "cell_type": "code",
   "execution_count": 1,
   "metadata": {},
   "outputs": [
    {
     "name": "stdout",
     "output_type": "stream",
     "text": [
      "The token has not been saved to the git credentials helper. Pass `add_to_git_credential=True` in this function directly or `--add-to-git-credential` if using via `huggingface-cli` if you want to set the git credential as well.\n",
      "Token is valid (permission: write).\n",
      "Your token has been saved to /Users/verosha/.cache/huggingface/token\n",
      "Login successful\n"
     ]
    }
   ],
   "source": [
    "# Log into Hugging Face\n",
    "# Replace <access_token> with your access token\n",
    "\n",
    "HUGGINGFACE_TOKEN = \"<access_token>\"\n",
    "!huggingface-cli login --token $HUGGINGFACE_TOKEN"
   ]
  },
  {
   "cell_type": "code",
   "execution_count": 2,
   "metadata": {},
   "outputs": [
    {
     "name": "stderr",
     "output_type": "stream",
     "text": [
      "/Users/verosha/Documents/Github_Repos/examples/knn-banking-product-recommender/.santander/lib/python3.11/site-packages/tqdm/auto.py:21: TqdmWarning: IProgress not found. Please update jupyter and ipywidgets. See https://ipywidgets.readthedocs.io/en/stable/user_install.html\n",
      "  from .autonotebook import tqdm as notebook_tqdm\n"
     ]
    }
   ],
   "source": [
    "# imports required\n",
    "import os\n",
    "from huggingface_hub import hf_hub_download"
   ]
  },
  {
   "cell_type": "code",
   "execution_count": 3,
   "metadata": {},
   "outputs": [],
   "source": [
    "# config setup\n",
    "REPO_ID = \"MelioAI/santander-product-recommendation\"\n",
    "ARTIFACT_SAVE_DIR = \"../saved_model/\""
   ]
  },
  {
   "cell_type": "code",
   "execution_count": 5,
   "metadata": {},
   "outputs": [
    {
     "name": "stdout",
     "output_type": "stream",
     "text": [
      "Directory ../saved_model/ created.\n"
     ]
    }
   ],
   "source": [
    "# Check if the saved_model directory exists\n",
    "if not os.path.exists(ARTIFACT_SAVE_DIR):\n",
    "    # Create the directory if it does not exist\n",
    "    os.makedirs(ARTIFACT_SAVE_DIR)\n",
    "    print(f\"Directory {ARTIFACT_SAVE_DIR} created.\")\n",
    "else:\n",
    "    print(f\"Directory {ARTIFACT_SAVE_DIR} already exists.\")"
   ]
  },
  {
   "cell_type": "code",
   "execution_count": 6,
   "metadata": {},
   "outputs": [],
   "source": [
    "# Download from Hugging Face\n",
    "# This will take a while to download the files (±10min)\n",
    "download_files = [\"indices.joblib\", \"df_encoded_test_for_predictions.csv\", \"df_encoded_train_for_predictions.csv\", \"df_encoded_test_ids.csv\"]\n",
    "\n",
    "for file_name in download_files:\n",
    "    hf_hub_download(\n",
    "        repo_id=REPO_ID,\n",
    "        repo_type=\"dataset\",\n",
    "        filename=file_name,\n",
    "        local_dir=ARTIFACT_SAVE_DIR\n",
    "    )"
   ]
  }
 ],
 "metadata": {
  "kernelspec": {
   "display_name": ".santander",
   "language": "python",
   "name": "python3"
  },
  "language_info": {
   "codemirror_mode": {
    "name": "ipython",
    "version": 3
   },
   "file_extension": ".py",
   "mimetype": "text/x-python",
   "name": "python",
   "nbconvert_exporter": "python",
   "pygments_lexer": "ipython3",
   "version": "3.11.2"
  }
 },
 "nbformat": 4,
 "nbformat_minor": 2
}
